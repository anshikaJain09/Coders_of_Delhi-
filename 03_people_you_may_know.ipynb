{
 "cells": [
  {
   "cell_type": "code",
   "execution_count": 4,
   "id": "844ab466-7d2f-4ff9-b050-f8461a4f6f18",
   "metadata": {},
   "outputs": [],
   "source": [
    "import json"
   ]
  },
  {
   "cell_type": "code",
   "execution_count": 10,
   "id": "067f0db0-56c1-44fe-ae43-c376579f791b",
   "metadata": {},
   "outputs": [
    {
     "name": "stdout",
     "output_type": "stream",
     "text": [
      "[4]\n"
     ]
    }
   ],
   "source": [
    "def load_data(filename):\n",
    "    with open(\"data.json\",\"r\") as f:\n",
    "        return json.load(f)\n",
    "        \n",
    "def people_you_may_know(user_id,data):\n",
    "    user_friends = {}\n",
    "    for user in data['users']:\n",
    "        user_friends[user['id']] = set(user['friends'])\n",
    "\n",
    "    if user_id not in user_friends:\n",
    "        return[]\n",
    "\n",
    "    direct_friends = user_friends[user_id]\n",
    "    suggestions = {}\n",
    "    for friend in direct_friends:\n",
    "        for mutual in user_friends[friend]:\n",
    "            if mutual!=user_id and mutual not in direct_friends:\n",
    "                \n",
    "                # count mutual friends\n",
    "                suggestions[mutual] = suggestions.get(mutual,0) + 1   \n",
    "    sorted_suggestions = sorted(suggestions.items(), key = lambda x: x[1], reverse = True)\n",
    "    return [user_id for user_id, mutual_count in sorted_suggestions]\n",
    "        \n",
    "\n",
    "# Load the data\n",
    "data = load_data(\"data.json\")   \n",
    "user_id = 1\n",
    "recc = people_you_may_know(user_id,data) # recc = recommendation\n",
    "print(recc)\n",
    "        "
   ]
  },
  {
   "cell_type": "code",
   "execution_count": null,
   "id": "99e90004-9db5-4672-9071-aab3d022c4ba",
   "metadata": {},
   "outputs": [],
   "source": []
  }
 ],
 "metadata": {
  "kernelspec": {
   "display_name": "Python [conda env:base] *",
   "language": "python",
   "name": "conda-base-py"
  },
  "language_info": {
   "codemirror_mode": {
    "name": "ipython",
    "version": 3
   },
   "file_extension": ".py",
   "mimetype": "text/x-python",
   "name": "python",
   "nbconvert_exporter": "python",
   "pygments_lexer": "ipython3",
   "version": "3.13.5"
  }
 },
 "nbformat": 4,
 "nbformat_minor": 5
}
